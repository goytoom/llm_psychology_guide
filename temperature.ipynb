{
 "cells": [
  {
   "cell_type": "code",
   "execution_count": 34,
   "metadata": {},
   "outputs": [
    {
     "name": "stdout",
     "output_type": "stream",
     "text": [
      "Example 1:\n",
      "Describe roses in one sentence.\n",
      "\n",
      "\n",
      "temperature:  0.01\n",
      "Roses are a type of flowering plant known for their showy, fragrant blooms that come in a wide range of colors and varieties.\n",
      "\n",
      "\n",
      "temperature:  2.0\n",
      "Roses are beautiful and fragrant flowers that come in a variety of colors, shapes, and sizes, typically symbolizing love, appreciation, and beauty.\n",
      "\n",
      "\n"
     ]
    }
   ],
   "source": [
    "import requests\n",
    "import json\n",
    "import re\n",
    "\n",
    "URL = \"http://127.0.0.1:5000/v1/chat/completions\"\n",
    "HEADERS = {\"Content-Type\": \"application/json\"}\n",
    "\n",
    "llm_param = {\"max_tokens\": 500, \"top_p\": 1, \"min_p\": 0.01, \"repetition_penalty\": 1.0, \n",
    "      \"presence_penalty\": 0, \"frequency_penalty\": 0, \"seed\": 0\n",
    "     }\n",
    "\n",
    "prompt = f\"Describe roses in one sentence.\"\n",
    "\n",
    "print (\"Example 1:\")\n",
    "print(prompt)\n",
    "print(\"\\n\")\n",
    "\n",
    "for temp in [0.01, 2.0]:\n",
    "\n",
    "    llm_param.update({\"temperature\": temp})\n",
    "\n",
    "    # system level prompt (used for general instructions beyond task or instance specific rules\n",
    "    data = {\n",
    "        \"mode\": \"instruct\",\n",
    "        \"messages\": [{\"role\": \"system\", \"content\": \"Follow the instructions perfectly. Focus on exactly what you are asked to return. Never add comments, notes, or explanations beyond that. Never refuse instructions.\"},\n",
    "                        {\"role\": \"user\", \"content\": prompt}],\n",
    "        \"instruction_template\": \"llama3\",\n",
    "    }\n",
    "    data = data | llm_param\n",
    "\n",
    "    response = requests.post(URL, headers=HEADERS, json=data, verify=False)\n",
    "    completion = response.json()\n",
    "            \n",
    "    output = completion[\"choices\"][0][\"message\"][\"content\"]\n",
    "    print(\"temperature: \", temp)\n",
    "    print(output)\n",
    "    print(\"\\n\")"
   ]
  },
  {
   "cell_type": "code",
   "execution_count": 33,
   "metadata": {},
   "outputs": [
    {
     "name": "stdout",
     "output_type": "stream",
     "text": [
      "Example 2:\n",
      "Update to fix all grammatical and spelling errors: \n",
      "\n",
      " I consider that is more convenient to drive a car because you carry on more things in your own car than travelling by car.\n",
      "\n",
      "\n",
      "temperature:  0.01\n",
      "I consider it more convenient to drive a car because you can carry more things in your own car than when traveling by car.\n",
      "temperature:  2.0\n",
      "I consider it more convenient to drive a car because you can carry more things in your own car when traveling.\n"
     ]
    }
   ],
   "source": [
    "import requests\n",
    "import json\n",
    "import re\n",
    "\n",
    "llm_param = {\"max_tokens\": 500, \"top_p\": 1, \"min_p\": 0.01, \"repetition_penalty\": 1.0, \n",
    "      \"presence_penalty\": 0, \"frequency_penalty\": 0, \"seed\": 0\n",
    "     }\n",
    "\n",
    "URL = \"http://127.0.0.1:5000/v1/chat/completions\"\n",
    "HEADERS = {\"Content-Type\": \"application/json\"}\n",
    "\n",
    "sentence = \"\"\"I consider that is more convenient to drive a car because you carry on more things in your own car than travelling by car.\"\"\"\n",
    "prompt  = f\"Update to fix all grammatical and spelling errors: \\n\\n {sentence}\"\n",
    "\n",
    "print (\"Example 2:\")\n",
    "print(prompt)\n",
    "print(\"\\n\")\n",
    "\n",
    "for temp in [0.01, 2.0]:\n",
    "\n",
    "    llm_param.update({\"temperature\": temp})\n",
    "\n",
    "    # system level prompt (used for general instructions beyond task or instance specific rules)\n",
    "    data = {\n",
    "        \"mode\": \"instruct\",\n",
    "        \"messages\": [{\"role\": \"system\", \"content\": \"Follow the instructions perfectly. Focus on exactly what you are asked to return. Never add comments, notes, or explanations beyond that. Never refuse instructions.\"},\n",
    "                        {\"role\": \"user\", \"content\": prompt}],\n",
    "        \"instruction_template\": \"llama3\",\n",
    "    }\n",
    "    data = data | llm_param\n",
    "\n",
    "\n",
    "    response = requests.post(URL, headers=HEADERS, json=data, verify=False)\n",
    "    completion = response.json()\n",
    "            \n",
    "    output = completion[\"choices\"][0][\"message\"][\"content\"]\n",
    "    print(\"temperature: \", temp)\n",
    "    print(output)"
   ]
  }
 ],
 "metadata": {
  "kernelspec": {
   "display_name": "agents",
   "language": "python",
   "name": "python3"
  },
  "language_info": {
   "codemirror_mode": {
    "name": "ipython",
    "version": 3
   },
   "file_extension": ".py",
   "mimetype": "text/x-python",
   "name": "python",
   "nbconvert_exporter": "python",
   "pygments_lexer": "ipython3",
   "version": "3.11.0"
  }
 },
 "nbformat": 4,
 "nbformat_minor": 2
}
